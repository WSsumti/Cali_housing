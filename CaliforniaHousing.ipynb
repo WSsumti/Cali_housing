{
 "cells": [
  {
   "attachments": {},
   "cell_type": "markdown",
   "metadata": {},
   "source": [
    "The goal here is to predict house value based on other factors"
   ]
  },
  {
   "attachments": {},
   "cell_type": "markdown",
   "metadata": {},
   "source": [
    "# Prepare: "
   ]
  },
  {
   "attachments": {},
   "cell_type": "markdown",
   "metadata": {},
   "source": [
    "Longitude:refers to the angular distance of a geographic place north or south of the earth’s equator for each block group\n",
    "<br>\n",
    "Latitude :refers to the angular distance of a geographic place east or west of the earth’s equator for each block group<br>\n",
    "Housing Median Age:is the median age of the people that belong to a block group. Note that the median is the value that lies at the midpoint of a frequency distribution of observed values<br>\n",
    "Total Rooms:is the total number of rooms in the houses per block group<br>\n",
    "Total Bedrooms:is the total number of bedrooms in the houses per block group<br>\n",
    "Population:is the number of inhabitants of a block group<br>\n",
    "Households:refers to units of houses and their occupants per block group<br>\n",
    "Median Income:is used to register the median income of people that belong to a block group<br>\n",
    "Median House Value:is the dependent variable and refers to the median house value per block group<br>"
   ]
  },
  {
   "attachments": {},
   "cell_type": "markdown",
   "metadata": {},
   "source": [
    "## Import libs: "
   ]
  },
  {
   "cell_type": "code",
   "execution_count": 38,
   "metadata": {},
   "outputs": [],
   "source": [
    "import pandas as pd\n",
    "\n",
    "from pyspark.sql import SparkSession\n",
    "import pyspark.sql.functions as F\n",
    "import pyspark.sql.types as T\n",
    "from pyspark.sql.types import StructType, StringType, IntegerType, StructField, FloatType\n",
    "from pyspark.ml.regression import LinearRegression\n",
    "from pyspark.ml.classification import LogisticRegression\n",
    "from pyspark.ml.feature import VectorAssembler\n",
    "from pyspark.ml.evaluation import RegressionEvaluator"
   ]
  },
  {
   "attachments": {},
   "cell_type": "markdown",
   "metadata": {},
   "source": [
    "## Preprocessing"
   ]
  },
  {
   "cell_type": "code",
   "execution_count": 2,
   "metadata": {},
   "outputs": [],
   "source": [
    "spark = SparkSession.builder.appName(\"cali_housing\").getOrCreate()"
   ]
  },
  {
   "cell_type": "code",
   "execution_count": 12,
   "metadata": {},
   "outputs": [],
   "source": [
    "schema = StructType([\n",
    "    StructField(\"Longtitude\", FloatType(), True),\n",
    "    StructField(\"Latitude\", FloatType(), True),\n",
    "    StructField(\"HousingMedianAge\", FloatType(), True),\n",
    "    StructField(\"Total Rooms\", FloatType(), True),\n",
    "    StructField(\"Total Bedrooms\", FloatType(), True),\n",
    "    StructField(\"Population\", FloatType(), True),\n",
    "    StructField(\"Households\", FloatType(), True),\n",
    "    StructField(\"MedianIncome\", FloatType(), True),\n",
    "    StructField(\"MedianHouseValue\", FloatType(), True),\n",
    "])\n",
    "df = spark.read.csv(\"cal_housing.data\", schema=schema)"
   ]
  },
  {
   "cell_type": "code",
   "execution_count": 13,
   "metadata": {},
   "outputs": [
    {
     "name": "stdout",
     "output_type": "stream",
     "text": [
      "+----------+--------+----------------+-----------+--------------+----------+----------+------------+----------------+\n",
      "|Longtitude|Latitude|HousingMedianAge|Total Rooms|Total Bedrooms|Population|Households|MedianIncome|MedianHouseValue|\n",
      "+----------+--------+----------------+-----------+--------------+----------+----------+------------+----------------+\n",
      "|   -122.23|   37.88|            41.0|      880.0|         129.0|     322.0|     126.0|      8.3252|        452600.0|\n",
      "|   -122.22|   37.86|            21.0|     7099.0|        1106.0|    2401.0|    1138.0|      8.3014|        358500.0|\n",
      "|   -122.24|   37.85|            52.0|     1467.0|         190.0|     496.0|     177.0|      7.2574|        352100.0|\n",
      "|   -122.25|   37.85|            52.0|     1274.0|         235.0|     558.0|     219.0|      5.6431|        341300.0|\n",
      "|   -122.25|   37.85|            52.0|     1627.0|         280.0|     565.0|     259.0|      3.8462|        342200.0|\n",
      "|   -122.25|   37.85|            52.0|      919.0|         213.0|     413.0|     193.0|      4.0368|        269700.0|\n",
      "|   -122.25|   37.84|            52.0|     2535.0|         489.0|    1094.0|     514.0|      3.6591|        299200.0|\n",
      "|   -122.25|   37.84|            52.0|     3104.0|         687.0|    1157.0|     647.0|        3.12|        241400.0|\n",
      "|   -122.26|   37.84|            42.0|     2555.0|         665.0|    1206.0|     595.0|      2.0804|        226700.0|\n",
      "|   -122.25|   37.84|            52.0|     3549.0|         707.0|    1551.0|     714.0|      3.6912|        261100.0|\n",
      "|   -122.26|   37.85|            52.0|     2202.0|         434.0|     910.0|     402.0|      3.2031|        281500.0|\n",
      "|   -122.26|   37.85|            52.0|     3503.0|         752.0|    1504.0|     734.0|      3.2705|        241800.0|\n",
      "|   -122.26|   37.85|            52.0|     2491.0|         474.0|    1098.0|     468.0|       3.075|        213500.0|\n",
      "|   -122.26|   37.84|            52.0|      696.0|         191.0|     345.0|     174.0|      2.6736|        191300.0|\n",
      "|   -122.26|   37.85|            52.0|     2643.0|         626.0|    1212.0|     620.0|      1.9167|        159200.0|\n",
      "|   -122.26|   37.85|            50.0|     1120.0|         283.0|     697.0|     264.0|       2.125|        140000.0|\n",
      "|   -122.27|   37.85|            52.0|     1966.0|         347.0|     793.0|     331.0|       2.775|        152500.0|\n",
      "|   -122.27|   37.85|            52.0|     1228.0|         293.0|     648.0|     303.0|      2.1202|        155500.0|\n",
      "|   -122.26|   37.84|            50.0|     2239.0|         455.0|     990.0|     419.0|      1.9911|        158700.0|\n",
      "|   -122.27|   37.84|            52.0|     1503.0|         298.0|     690.0|     275.0|      2.6033|        162900.0|\n",
      "+----------+--------+----------------+-----------+--------------+----------+----------+------------+----------------+\n",
      "only showing top 20 rows\n",
      "\n"
     ]
    }
   ],
   "source": [
    "df.show()"
   ]
  },
  {
   "attachments": {},
   "cell_type": "markdown",
   "metadata": {},
   "source": [
    "Check null value: "
   ]
  },
  {
   "cell_type": "code",
   "execution_count": 14,
   "metadata": {},
   "outputs": [
    {
     "name": "stdout",
     "output_type": "stream",
     "text": [
      "+----------+--------+----------------+-----------+--------------+----------+----------+------------+----------------+\n",
      "|Longtitude|Latitude|HousingMedianAge|Total Rooms|Total Bedrooms|Population|Households|MedianIncome|MedianHouseValue|\n",
      "+----------+--------+----------------+-----------+--------------+----------+----------+------------+----------------+\n",
      "|         0|       0|               0|          0|             0|         0|         0|           0|               0|\n",
      "+----------+--------+----------------+-----------+--------------+----------+----------+------------+----------------+\n",
      "\n"
     ]
    }
   ],
   "source": [
    "from pyspark.sql.functions import col, count, when\n",
    "\n",
    "df.select([count(when(col(c).isNull() , c)).alias(c) for c in df.columns]).show()"
   ]
  },
  {
   "attachments": {},
   "cell_type": "markdown",
   "metadata": {},
   "source": [
    "Find the mean of number of people in 1 household\n",
    "<br>\n",
    "Find the number of room per household\n",
    "<br>\n"
   ]
  },
  {
   "cell_type": "code",
   "execution_count": 15,
   "metadata": {},
   "outputs": [
    {
     "name": "stdout",
     "output_type": "stream",
     "text": [
      "+----------+--------+----------------+-----------+--------------+----------+----------+------------+----------------+---------------------+------------------+\n",
      "|Longtitude|Latitude|HousingMedianAge|Total Rooms|Total Bedrooms|Population|Households|MedianIncome|MedianHouseValue|MeanPeopleInHousehold|NumberRoomPerHouse|\n",
      "+----------+--------+----------------+-----------+--------------+----------+----------+------------+----------------+---------------------+------------------+\n",
      "|   -122.23|   37.88|            41.0|      880.0|         129.0|     322.0|     126.0|      8.3252|        452600.0|                    3|                 7|\n",
      "|   -122.22|   37.86|            21.0|     7099.0|        1106.0|    2401.0|    1138.0|      8.3014|        358500.0|                    2|                 6|\n",
      "|   -122.24|   37.85|            52.0|     1467.0|         190.0|     496.0|     177.0|      7.2574|        352100.0|                    3|                 8|\n",
      "|   -122.25|   37.85|            52.0|     1274.0|         235.0|     558.0|     219.0|      5.6431|        341300.0|                    3|                 6|\n",
      "|   -122.25|   37.85|            52.0|     1627.0|         280.0|     565.0|     259.0|      3.8462|        342200.0|                    2|                 6|\n",
      "|   -122.25|   37.85|            52.0|      919.0|         213.0|     413.0|     193.0|      4.0368|        269700.0|                    2|                 5|\n",
      "|   -122.25|   37.84|            52.0|     2535.0|         489.0|    1094.0|     514.0|      3.6591|        299200.0|                    2|                 5|\n",
      "|   -122.25|   37.84|            52.0|     3104.0|         687.0|    1157.0|     647.0|        3.12|        241400.0|                    2|                 5|\n",
      "|   -122.26|   37.84|            42.0|     2555.0|         665.0|    1206.0|     595.0|      2.0804|        226700.0|                    2|                 4|\n",
      "|   -122.25|   37.84|            52.0|     3549.0|         707.0|    1551.0|     714.0|      3.6912|        261100.0|                    2|                 5|\n",
      "|   -122.26|   37.85|            52.0|     2202.0|         434.0|     910.0|     402.0|      3.2031|        281500.0|                    2|                 5|\n",
      "|   -122.26|   37.85|            52.0|     3503.0|         752.0|    1504.0|     734.0|      3.2705|        241800.0|                    2|                 5|\n",
      "|   -122.26|   37.85|            52.0|     2491.0|         474.0|    1098.0|     468.0|       3.075|        213500.0|                    2|                 5|\n",
      "|   -122.26|   37.84|            52.0|      696.0|         191.0|     345.0|     174.0|      2.6736|        191300.0|                    2|                 4|\n",
      "|   -122.26|   37.85|            52.0|     2643.0|         626.0|    1212.0|     620.0|      1.9167|        159200.0|                    2|                 4|\n",
      "|   -122.26|   37.85|            50.0|     1120.0|         283.0|     697.0|     264.0|       2.125|        140000.0|                    3|                 4|\n",
      "|   -122.27|   37.85|            52.0|     1966.0|         347.0|     793.0|     331.0|       2.775|        152500.0|                    2|                 6|\n",
      "|   -122.27|   37.85|            52.0|     1228.0|         293.0|     648.0|     303.0|      2.1202|        155500.0|                    2|                 4|\n",
      "|   -122.26|   37.84|            50.0|     2239.0|         455.0|     990.0|     419.0|      1.9911|        158700.0|                    2|                 5|\n",
      "|   -122.27|   37.84|            52.0|     1503.0|         298.0|     690.0|     275.0|      2.6033|        162900.0|                    3|                 5|\n",
      "+----------+--------+----------------+-----------+--------------+----------+----------+------------+----------------+---------------------+------------------+\n",
      "only showing top 20 rows\n",
      "\n"
     ]
    }
   ],
   "source": [
    "round_number = F.udf(lambda x: round(x), T.IntegerType())\n",
    "df = df.withColumn(\"MeanPeopleInHousehold\", round_number(df[\"Population\"]/df[\"Households\"]))\n",
    "df = df.withColumn(\"NumberRoomPerHouse\", round_number(df[\"Total Rooms\"]/df[\"Households\"]))\n",
    "df.show()"
   ]
  },
  {
   "attachments": {},
   "cell_type": "markdown",
   "metadata": {},
   "source": [
    "Summary statistic: "
   ]
  },
  {
   "cell_type": "code",
   "execution_count": 19,
   "metadata": {},
   "outputs": [
    {
     "name": "stdout",
     "output_type": "stream",
     "text": [
      "+-------+------------------+------------------+-----------------+------------------+-----------------+------------------+------------------+---------------------+------------------+\n",
      "|summary|  HousingMedianAge|       Total Rooms|   Total Bedrooms|        Population|       Households|      MedianIncome|  MedianHouseValue|MeanPeopleInHousehold|NumberRoomPerHouse|\n",
      "+-------+------------------+------------------+-----------------+------------------+-----------------+------------------+------------------+---------------------+------------------+\n",
      "|  count|             20640|             20640|            20640|             20640|            20640|             20640|             20640|                20640|             20640|\n",
      "|   mean|28.639486434108527|2635.7630813953488|537.8980135658915|1425.4767441860465|499.5396802325581|3.8706710030346416|206855.81690891474|   3.0757267441860465| 5.424806201550387|\n",
      "| stddev| 12.58555761211163|2181.6152515827944| 421.247905943133|  1132.46212176534|382.3297528316098|1.8998217183639696|115395.61587441359|   10.387241852808085|2.4919396125019864|\n",
      "|    min|               1.0|               2.0|              1.0|               3.0|              1.0|            0.4999|           14999.0|                    1|                 1|\n",
      "|    max|              52.0|           39320.0|           6445.0|           35682.0|           6082.0|           15.0001|          500001.0|                 1243|               142|\n",
      "+-------+------------------+------------------+-----------------+------------------+-----------------+------------------+------------------+---------------------+------------------+\n",
      "\n"
     ]
    }
   ],
   "source": [
    "df.describe().select(\"summary\",\"HousingMedianAge\", \"Total Rooms\", \"Total Bedrooms\", \"Population\",\"Households\",\"MedianIncome\",\"MedianHouseValue\",\"MeanPeopleInHousehold\",\"NumberRoomPerHouse\").show()"
   ]
  },
  {
   "attachments": {},
   "cell_type": "markdown",
   "metadata": {},
   "source": [
    "# Predicting"
   ]
  },
  {
   "attachments": {},
   "cell_type": "markdown",
   "metadata": {},
   "source": [
    "## Modeling: "
   ]
  },
  {
   "attachments": {},
   "cell_type": "markdown",
   "metadata": {},
   "source": [
    "Set all these features into a dense vector so we can use it in modeling"
   ]
  },
  {
   "cell_type": "code",
   "execution_count": 21,
   "metadata": {},
   "outputs": [],
   "source": [
    "assembler = VectorAssembler(inputCols=[\"HousingMedianAge\", \"Total Rooms\", \"Total Bedrooms\", \"Population\",\"Households\",\"MedianIncome\",\"MeanPeopleInHousehold\",\"NumberRoomPerHouse\"], outputCol=\"features\")\n",
    "transformed_df = assembler.transform(df)"
   ]
  },
  {
   "cell_type": "code",
   "execution_count": 22,
   "metadata": {},
   "outputs": [
    {
     "name": "stdout",
     "output_type": "stream",
     "text": [
      "+----------+--------+----------------+-----------+--------------+----------+----------+------------+----------------+---------------------+------------------+--------------------+\n",
      "|Longtitude|Latitude|HousingMedianAge|Total Rooms|Total Bedrooms|Population|Households|MedianIncome|MedianHouseValue|MeanPeopleInHousehold|NumberRoomPerHouse|            features|\n",
      "+----------+--------+----------------+-----------+--------------+----------+----------+------------+----------------+---------------------+------------------+--------------------+\n",
      "|   -122.23|   37.88|            41.0|      880.0|         129.0|     322.0|     126.0|      8.3252|        452600.0|                    3|                 7|[41.0,880.0,129.0...|\n",
      "|   -122.22|   37.86|            21.0|     7099.0|        1106.0|    2401.0|    1138.0|      8.3014|        358500.0|                    2|                 6|[21.0,7099.0,1106...|\n",
      "|   -122.24|   37.85|            52.0|     1467.0|         190.0|     496.0|     177.0|      7.2574|        352100.0|                    3|                 8|[52.0,1467.0,190....|\n",
      "|   -122.25|   37.85|            52.0|     1274.0|         235.0|     558.0|     219.0|      5.6431|        341300.0|                    3|                 6|[52.0,1274.0,235....|\n",
      "|   -122.25|   37.85|            52.0|     1627.0|         280.0|     565.0|     259.0|      3.8462|        342200.0|                    2|                 6|[52.0,1627.0,280....|\n",
      "+----------+--------+----------------+-----------+--------------+----------+----------+------------+----------------+---------------------+------------------+--------------------+\n",
      "only showing top 5 rows\n",
      "\n"
     ]
    }
   ],
   "source": [
    "transformed_df.show(5)"
   ]
  },
  {
   "attachments": {},
   "cell_type": "markdown",
   "metadata": {},
   "source": [
    "Spliting the dataset: "
   ]
  },
  {
   "cell_type": "code",
   "execution_count": 23,
   "metadata": {},
   "outputs": [],
   "source": [
    "(train,test) = transformed_df.randomSplit([0.7,0.3], seed=11)"
   ]
  },
  {
   "cell_type": "code",
   "execution_count": 24,
   "metadata": {},
   "outputs": [
    {
     "name": "stdout",
     "output_type": "stream",
     "text": [
      "+----------+--------+----------------+-----------+--------------+----------+----------+------------+----------------+---------------------+------------------+--------------------+\n",
      "|Longtitude|Latitude|HousingMedianAge|Total Rooms|Total Bedrooms|Population|Households|MedianIncome|MedianHouseValue|MeanPeopleInHousehold|NumberRoomPerHouse|            features|\n",
      "+----------+--------+----------------+-----------+--------------+----------+----------+------------+----------------+---------------------+------------------+--------------------+\n",
      "|   -124.35|   40.54|            52.0|     1820.0|         300.0|     806.0|     270.0|      3.0147|         94600.0|                    3|                 7|[52.0,1820.0,300....|\n",
      "|    -124.3|    41.8|            19.0|     2672.0|         552.0|    1298.0|     478.0|      1.9797|         85800.0|                    3|                 6|[19.0,2672.0,552....|\n",
      "|    -124.3|   41.84|            17.0|     2677.0|         531.0|    1244.0|     456.0|      3.0313|        103600.0|                    3|                 6|[17.0,2677.0,531....|\n",
      "|   -124.27|   40.69|            36.0|     2349.0|         528.0|    1194.0|     465.0|      2.5179|         79000.0|                    3|                 5|[36.0,2349.0,528....|\n",
      "|   -124.26|   40.58|            52.0|     2217.0|         394.0|     907.0|     369.0|      2.3571|        111400.0|                    2|                 6|[52.0,2217.0,394....|\n",
      "|   -124.23|   40.81|            52.0|     1112.0|         209.0|     544.0|     172.0|      3.3462|         50800.0|                    3|                 6|[52.0,1112.0,209....|\n",
      "|   -124.23|   41.75|            11.0|     3159.0|         616.0|    1343.0|     479.0|      2.4805|         73200.0|                    3|                 7|[11.0,3159.0,616....|\n",
      "|   -124.22|   41.73|            28.0|     3003.0|         699.0|    1530.0|     653.0|      1.7038|         78300.0|                    2|                 5|[28.0,3003.0,699....|\n",
      "|   -124.21|   40.75|            32.0|     1218.0|         331.0|     620.0|     268.0|      1.6528|         58100.0|                    2|                 5|[32.0,1218.0,331....|\n",
      "|   -124.19|   40.78|            37.0|     1371.0|         319.0|     640.0|     260.0|      1.8242|         70000.0|                    2|                 5|[37.0,1371.0,319....|\n",
      "|   -124.18|   40.78|            33.0|     1076.0|         222.0|     656.0|     236.0|      2.5096|         72200.0|                    3|                 5|[33.0,1076.0,222....|\n",
      "|   -124.18|   40.78|            34.0|     1592.0|         364.0|     950.0|     317.0|      2.1607|         67000.0|                    3|                 5|[34.0,1592.0,364....|\n",
      "|   -124.18|   40.78|            37.0|     1453.0|         293.0|     867.0|     310.0|      2.5536|         70200.0|                    3|                 5|[37.0,1453.0,293....|\n",
      "|   -124.18|   40.79|            40.0|     1398.0|         311.0|     788.0|     279.0|      1.4668|         64600.0|                    3|                 5|[40.0,1398.0,311....|\n",
      "|   -124.17|   40.62|            32.0|     1595.0|         309.0|     706.0|     277.0|      2.8958|         86400.0|                    3|                 6|[32.0,1595.0,309....|\n",
      "|   -124.17|   40.74|            17.0|     2026.0|         338.0|     873.0|     313.0|      4.0357|        128900.0|                    3|                 6|[17.0,2026.0,338....|\n",
      "|   -124.17|   40.75|            13.0|     2171.0|         339.0|     951.0|     353.0|      4.8516|        116100.0|                    3|                 6|[13.0,2171.0,339....|\n",
      "|   -124.17|   40.76|            26.0|     1776.0|         361.0|     992.0|     380.0|      2.8056|         82800.0|                    3|                 5|[26.0,1776.0,361....|\n",
      "|   -124.17|   40.78|            39.0|     1606.0|         330.0|     731.0|     327.0|      1.6369|         68300.0|                    2|                 5|[39.0,1606.0,330....|\n",
      "|   -124.17|    40.8|            52.0|      661.0|         316.0|     392.0|     244.0|       0.957|         60000.0|                    2|                 3|[52.0,661.0,316.0...|\n",
      "+----------+--------+----------------+-----------+--------------+----------+----------+------------+----------------+---------------------+------------------+--------------------+\n",
      "only showing top 20 rows\n",
      "\n"
     ]
    }
   ],
   "source": [
    "train.show()"
   ]
  },
  {
   "cell_type": "code",
   "execution_count": 26,
   "metadata": {},
   "outputs": [
    {
     "name": "stdout",
     "output_type": "stream",
     "text": [
      "+----------+--------+----------------+-----------+--------------+----------+----------+------------+----------------+---------------------+------------------+--------------------+\n",
      "|Longtitude|Latitude|HousingMedianAge|Total Rooms|Total Bedrooms|Population|Households|MedianIncome|MedianHouseValue|MeanPeopleInHousehold|NumberRoomPerHouse|            features|\n",
      "+----------+--------+----------------+-----------+--------------+----------+----------+------------+----------------+---------------------+------------------+--------------------+\n",
      "|   -124.25|   40.28|            32.0|     1430.0|         419.0|     434.0|     187.0|      1.9417|         76100.0|                    2|                 8|[32.0,1430.0,419....|\n",
      "|   -124.23|   40.54|            52.0|     2694.0|         453.0|    1152.0|     435.0|      3.0806|        106700.0|                    3|                 6|[52.0,2694.0,453....|\n",
      "|   -124.21|   41.75|            20.0|     3810.0|         787.0|    1993.0|     721.0|      2.0074|         66900.0|                    3|                 5|[20.0,3810.0,787....|\n",
      "|   -124.21|   41.77|            17.0|     3461.0|         722.0|    1947.0|     647.0|      2.5795|         68400.0|                    3|                 5|[17.0,3461.0,722....|\n",
      "|   -124.19|   40.73|            21.0|     5694.0|        1056.0|    2907.0|     972.0|      3.5363|         90100.0|                    3|                 6|[21.0,5694.0,1056...|\n",
      "|   -124.19|   40.77|            30.0|     2975.0|         634.0|    1367.0|     583.0|       2.442|         69000.0|                    2|                 5|[30.0,2975.0,634....|\n",
      "|   -124.19|   41.78|            15.0|     3140.0|         714.0|    1645.0|     640.0|      1.6654|         74600.0|                    3|                 5|[15.0,3140.0,714....|\n",
      "|   -124.18|   40.62|            35.0|      952.0|         178.0|     480.0|     179.0|      3.0536|        107000.0|                    3|                 5|[35.0,952.0,178.0...|\n",
      "|   -124.18|   40.79|            39.0|     1836.0|         352.0|     883.0|     337.0|       1.745|         70500.0|                    3|                 5|[39.0,1836.0,352....|\n",
      "|   -124.17|   40.77|            30.0|     1895.0|         366.0|     990.0|     359.0|      2.2227|         81300.0|                    3|                 5|[30.0,1895.0,366....|\n",
      "|   -124.17|   40.79|            43.0|     2285.0|         479.0|    1169.0|     482.0|      1.9688|         70500.0|                    2|                 5|[43.0,2285.0,479....|\n",
      "|   -124.17|    40.8|            52.0|     1606.0|         419.0|     891.0|     367.0|       1.585|         75500.0|                    2|                 4|[52.0,1606.0,419....|\n",
      "|   -124.17|    41.8|            16.0|     2739.0|         480.0|    1259.0|     436.0|      3.7557|        109400.0|                    3|                 6|[16.0,2739.0,480....|\n",
      "|   -124.16|   40.78|            43.0|     2241.0|         446.0|     932.0|     395.0|      2.9038|         82000.0|                    2|                 6|[43.0,2241.0,446....|\n",
      "|   -124.16|   40.78|            46.0|     1975.0|         346.0|     791.0|     349.0|         3.8|         81800.0|                    2|                 6|[46.0,1975.0,346....|\n",
      "|   -124.16|   40.78|            50.0|     2285.0|         403.0|     837.0|     353.0|      2.5417|         85400.0|                    2|                 6|[50.0,2285.0,403....|\n",
      "|   -124.16|   41.02|            23.0|     1672.0|         385.0|    1060.0|     390.0|      2.1726|         75500.0|                    3|                 4|[23.0,1672.0,385....|\n",
      "|   -124.15|   40.76|            24.0|     2858.0|         511.0|    1388.0|     512.0|       3.375|        100600.0|                    3|                 6|[24.0,2858.0,511....|\n",
      "|   -124.15|   40.78|            41.0|     2127.0|         358.0|     911.0|     349.0|      3.1711|        104200.0|                    3|                 6|[41.0,2127.0,358....|\n",
      "|   -124.14|   40.57|            29.0|     2864.0|         600.0|    1314.0|     562.0|      2.1354|         75100.0|                    2|                 5|[29.0,2864.0,600....|\n",
      "+----------+--------+----------------+-----------+--------------+----------+----------+------------+----------------+---------------------+------------------+--------------------+\n",
      "only showing top 20 rows\n",
      "\n"
     ]
    }
   ],
   "source": [
    "test.show()"
   ]
  },
  {
   "attachments": {},
   "cell_type": "markdown",
   "metadata": {},
   "source": [
    "Let's build a simple Linear Regression"
   ]
  },
  {
   "cell_type": "code",
   "execution_count": 35,
   "metadata": {},
   "outputs": [],
   "source": [
    "lr = LinearRegression(featuresCol=\"features\", labelCol=\"MedianHouseValue\")\n",
    "model = lr.fit(train)"
   ]
  },
  {
   "cell_type": "code",
   "execution_count": 36,
   "metadata": {},
   "outputs": [],
   "source": [
    "test_result = model.transform(test)"
   ]
  },
  {
   "cell_type": "code",
   "execution_count": 37,
   "metadata": {},
   "outputs": [
    {
     "name": "stdout",
     "output_type": "stream",
     "text": [
      "+------------------+----------------+--------------------+\n",
      "|        prediction|MedianHouseValue|            features|\n",
      "+------------------+----------------+--------------------+\n",
      "|127009.41117843846|         76100.0|[32.0,1430.0,419....|\n",
      "|207292.15866354905|        106700.0|[52.0,2694.0,453....|\n",
      "|110955.87634998583|         66900.0|[20.0,3810.0,787....|\n",
      "|124669.35465124811|         68400.0|[17.0,3461.0,722....|\n",
      "|173964.67824032521|         90100.0|[21.0,5694.0,1056...|\n",
      "|157929.62380723993|         69000.0|[30.0,2975.0,634....|\n",
      "| 93126.48014926424|         74600.0|[15.0,3140.0,714....|\n",
      "|172269.39573363625|        107000.0|[35.0,952.0,178.0...|\n",
      "| 122685.5051451314|         70500.0|[39.0,1836.0,352....|\n",
      "|127276.05728543006|         81300.0|[30.0,1895.0,366....|\n",
      "|152423.62063192952|         70500.0|[43.0,2285.0,479....|\n",
      "| 153937.4346045175|         75500.0|[52.0,1606.0,419....|\n",
      "|168456.28338264956|        109400.0|[16.0,2739.0,480....|\n",
      "|192066.02728325778|         82000.0|[43.0,2241.0,446....|\n",
      "| 235815.8353857602|         81800.0|[46.0,1975.0,346....|\n",
      "| 181697.7966111625|         85400.0|[50.0,2285.0,403....|\n",
      "|119139.29302025874|         75500.0|[23.0,1672.0,385....|\n",
      "|171230.78326352368|        100600.0|[24.0,2858.0,511....|\n",
      "|190029.59724385876|        104200.0|[41.0,2127.0,358....|\n",
      "|139538.18789909888|         75100.0|[29.0,2864.0,600....|\n",
      "+------------------+----------------+--------------------+\n",
      "only showing top 20 rows\n",
      "\n"
     ]
    }
   ],
   "source": [
    "test_result.select(\"prediction\", \"MedianHouseValue\", \"features\").show()"
   ]
  },
  {
   "attachments": {},
   "cell_type": "markdown",
   "metadata": {},
   "source": [
    "### Evaluation: "
   ]
  },
  {
   "attachments": {},
   "cell_type": "markdown",
   "metadata": {},
   "source": [
    "Inspect the metrics"
   ]
  },
  {
   "cell_type": "code",
   "execution_count": 43,
   "metadata": {},
   "outputs": [
    {
     "name": "stdout",
     "output_type": "stream",
     "text": [
      "R squared: 0.5536347916735185\n"
     ]
    }
   ],
   "source": [
    "evaluator = RegressionEvaluator(labelCol=\"MedianHouseValue\", predictionCol=\"prediction\", metricName=\"r2\")\n",
    "r2 = evaluator.evaluate(test_result)\n",
    "print(\"R squared:\", r2)"
   ]
  },
  {
   "attachments": {},
   "cell_type": "markdown",
   "metadata": {},
   "source": [
    "Inspect the co-efficients"
   ]
  },
  {
   "cell_type": "code",
   "execution_count": 44,
   "metadata": {},
   "outputs": [
    {
     "data": {
      "text/plain": [
       "DenseVector([1904.9381, -16.979, 88.6624, -40.4206, 134.6983, 47848.282, 197.5792, -777.896])"
      ]
     },
     "execution_count": 44,
     "metadata": {},
     "output_type": "execute_result"
    }
   ],
   "source": [
    "model.coefficients"
   ]
  }
 ],
 "metadata": {
  "kernelspec": {
   "display_name": "Python 3",
   "language": "python",
   "name": "python3"
  },
  "language_info": {
   "codemirror_mode": {
    "name": "ipython",
    "version": 3
   },
   "file_extension": ".py",
   "mimetype": "text/x-python",
   "name": "python",
   "nbconvert_exporter": "python",
   "pygments_lexer": "ipython3",
   "version": "3.9.2"
  },
  "orig_nbformat": 4
 },
 "nbformat": 4,
 "nbformat_minor": 2
}
